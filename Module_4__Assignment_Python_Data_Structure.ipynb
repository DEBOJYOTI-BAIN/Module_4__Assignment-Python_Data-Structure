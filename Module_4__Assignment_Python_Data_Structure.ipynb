{
  "nbformat": 4,
  "nbformat_minor": 0,
  "metadata": {
    "colab": {
      "provenance": []
    },
    "kernelspec": {
      "name": "python3",
      "display_name": "Python 3"
    },
    "language_info": {
      "name": "python"
    }
  },
  "cells": [
    {
      "cell_type": "markdown",
      "source": [
        "#Theory Questions and Answers\n",
        "\n",
        "1. What are data structures, and why are they important?\n",
        "  - Data Structure refers to arranging the data in such a way in memory, so that users can retrieve the data any time required efficiently.\n",
        "\n",
        "2.  Explain the difference between mutable and immutable data types with examples.\n",
        "  - Mutable datatypes are those whose values can be changed or updated. For eg: Lists.\n",
        "              \n",
        "              list1 = [4,3,\"hi\",\"world\"]\n",
        "              print(list1)\n",
        "\n",
        "              list1[2] = \"Hello\"\n",
        "              print(list1)\n",
        "\n",
        "              O/P:\n",
        "              [4, 3, 'hi', 'world']\n",
        "              [4, 3, 'Hello', 'world']\n",
        "\n",
        "  - Immutable datatypes are those whose values can't be changed or updated. For eg: tuple\n",
        "              tup = (3,4,\"hi\",\"world\")\n",
        "              print(tup)\n",
        "              tup[2] = \"hello\"\n",
        "              print(tup)\n",
        "\n",
        "              O/P:\n",
        "                   tup[2] = \"hello\"\n",
        "                    ~~~^^^\n",
        "                TypeError: 'tuple' object does not support item assignment\n",
        "\n",
        "\n",
        "3.  What are the main differences between lists and tuples in Python?\n",
        "  - Lists are mutable and Tuples are immutable.\n",
        "\n",
        "4.  Describe how dictionaries store data.\n",
        "  - Dictionaries stores data in the form of Key Value pair.\n",
        "            person = {\n",
        "            \"name\": \"Debojyoti\",\n",
        "            \"age\": 21,\n",
        "            \"city\": \"Kolkata\"\n",
        "            }\n",
        "            print(person)\n",
        "\n",
        "            O/P:\n",
        "            {'name': 'Debojyoti', 'age': 21, 'city': 'Kolkata'}\n",
        "\n",
        "5.  Why might you use a set instead of a list in Python?\n",
        "  - A set do not contain duplicate values whereas lists can contain duplicate values. In places where we want to remove redundancies and duplicates, set is preferred over list.\n",
        "\n",
        "6.  What is a string in Python, and how is it different from a list?\n",
        "  - String is characters inside single, double or triple quotes. There can be multiple characters also. String is the consecutive collection whereas in list values are separated by commas. And the output in strings will be consecutive whereas in list it will be in a form of separation with each other with commas.\n",
        "\n",
        "            my_string = \"hello\"\n",
        "            print(my_string)\n",
        "\n",
        "            my_list = ['h', 'e', 'l', 'l', 'o']\n",
        "            print(my_list)\n",
        "\n",
        "            O/P:\n",
        "            hello\n",
        "            ['h', 'e', 'l', 'l', 'o']\n",
        "\n",
        "\n",
        "7. How do tuples ensure data integrity in Python?\n",
        "  - Tuples are immutable, meaning their elements cannot be changed after creation. This ensures that data stored in tuples remains consistent and protected from accidental modification, making them ideal for fixed collections or read-only data.\n",
        "\n",
        "8. What is a hash table, and how does it relate to dictionaries in Python?\n",
        "  - A hash table is a data structure that stores data in key-value pairs and uses a hashing function to compute an index (hash) where the value is stored. In Python, the **dictionary** (dict) is implemented using a hash table internally.\n",
        "\n",
        "  - When you store a value in a dictionary with a key:\n",
        "\n",
        "  - Python applies a hash function to the key.\n",
        "\n",
        "  - This determines where in memory the value should go.\n",
        "\n",
        "  - This allows for fast lookup, insertion, and deletion — typically in constant time, O(1).\n",
        "  - Eg:\n",
        "            my_dict = {'name': 'Alice', 'age': 25}\n",
        "            print(my_dict['age'])  # Output: 25\n",
        "    Here, 'age' is hashed to find where '25' is stored.\n",
        "\n",
        "9. Can lists contain different data types in Python?\n",
        "  - Yes, lists can contain different datatypes in Python.\n",
        "            \n",
        "            mixed_list = [42, \"hello\", 3.14, True, None]\n",
        "            print(mixed_list)\n",
        "\n",
        "            O/P:\n",
        "            [42, 'hello', 3.14, True, None]\n",
        "\n",
        "\n",
        "10. Explain why strings are immutable in Python.\n",
        "  - In Python, strings are immutable, meaning once created, they cannot be changed. Any operation that modifies a string actually creates a new string object.\n",
        "\n",
        "  - This design is intentional to:\n",
        "\n",
        "  - Ensure data safety and integrity when strings are shared across the program.\n",
        "\n",
        "  - Allow strings to be hashable, so they can be used as keys in dictionaries.\n",
        "\n",
        "  - Example:\n",
        "\n",
        "              \n",
        "              s = \"hello\"\n",
        "              s[0] = 'H'     # This will raise an error (TypeError)\n",
        "\n",
        "    - But you can create a new string:\n",
        "\n",
        "              \n",
        "              s = \"hello\"\n",
        "              s = 'H' + s[1:]\n",
        "              print(s)  # Output: Hello\n",
        "  So, the original 'hello' string wasn't changed — a new string 'Hello' was created.\n",
        "\n",
        "11.  What advantages do dictionaries offer over lists for certain tasks?\n",
        "  - Dictionaries offer several key advantages over lists, especially when working with key-value pairs:\n",
        "\n",
        "  - Faster Lookup:\n",
        "    Dictionaries allow constant time (O(1)) access using keys, while lists need to be searched linearly (O(n)).\n",
        "\n",
        "  - Descriptive Access:\n",
        "    With dictionaries, data is accessed by meaningful keys instead of numeric indexes, making code more readable.\n",
        "\n",
        "  - Efficient for Mapping:\n",
        "    Ideal when you need to map unique keys to values like a student roll number to their marks.\n",
        "\n",
        "  - Example:\n",
        "\n",
        "                \n",
        "                # Using list\n",
        "                students = [\"John\", \"Alice\", \"Bob\"]\n",
        "                print(students[1])  # Output: Alice\n",
        "\n",
        "                # Using dictionary\n",
        "                marks = {\"John\": 85, \"Alice\": 92, \"Bob\": 78}\n",
        "                print(marks[\"Alice\"])  # Output: 92\n",
        "  - So, for tasks involving labelled data, fast lookup, or mappings, dictionaries are a better choice than lists.\n",
        "\n",
        "12.  Describe a scenario where using a tuple would be preferable over a list.\n",
        "  - Tuples can be used where we want to make a collection of different datatype elements which won't be changed.\n",
        "  - Tuples are preferred in cases like storing coordinates (x, y), or fixed database records, where data should not be altered.\n",
        "  \n",
        "13.  How do sets handle duplicate values in Python?\n",
        "  - Sets ommit duplicate values in python.\n",
        "  - When duplicate values are added to a set, only one instance is kept. Sets automatically filter them.\n",
        "\n",
        "14.  How does the “in” keyword work differently for lists and dictionaries?\n",
        "  - The in keyword checks for presence of an element, but it behaves differently in lists and dictionaries:\n",
        "\n",
        "  - In Lists:\n",
        "    Checks whether a value exists in the list.\n",
        "\n",
        "  - In Dictionaries:\n",
        "    Checks whether a key exists in the dictionary (not the value unless explicitly searched).\n",
        "\n",
        "  - Example:\n",
        "\n",
        "            \n",
        "            # List\n",
        "            fruits = [\"apple\", \"banana\", \"mango\"]\n",
        "            print(\"banana\" in fruits)   # Output: True\n",
        "            print(\"grape\" in fruits)    # Output: False\n",
        "\n",
        "            # Dictionary\n",
        "            prices = {\"apple\": 50, \"banana\": 20}\n",
        "            print(\"apple\" in prices)    # Output: True      \n",
        "            print(50 in prices)         # Output: False     \n",
        "            \n",
        "  - So, in checks values in lists, but keys in dictionaries by default.\n",
        "\n",
        "15.  Can you modify the elements of a tuple? Explain why or why not.\n",
        "  - No elements inside tuple can't be modified since tuples are immutable in nature.\n",
        "  \n",
        "16.  What is a nested dictionary, and give an example of its use case?\n",
        "  - A dictionary inside a dictionary is called nested dictionary.\n",
        "  For eg:\n",
        "                family = {\n",
        "                    \"Rajesh\": {\n",
        "                        \"relation\": \"father\",\n",
        "                        \"child\": \"Debojyoti\"\n",
        "                    },\n",
        "                    \"Suman\": {\n",
        "                        \"relation\": \"mother\",\n",
        "                        \"child\": \"Debojyoti\"\n",
        "                    },\n",
        "                    \"Debojyoti\": {\n",
        "                        \"relation\": \"child\",\n",
        "                        \"parents\": [\"Rajesh\", \"Suman\"]\n",
        "                    }\n",
        "                }\n",
        "\n",
        "                print(family)\n",
        "\n",
        "                O/P:\n",
        "            {\n",
        "            'Rajesh': {'relation': 'father', 'child': 'Debojyoti'},\n",
        "            'Suman': {'relation': 'mother', 'child': 'Debojyoti'},\n",
        "            'Debojyoti': {'relation': 'child', 'parents': ['Rajesh', 'Suman']}\n",
        "            }\n",
        "\n",
        "  - Nested dictionary can be used in family tree relationship data.\n",
        "\n",
        "17.  Describe the time complexity of accessing elements in a dictionary.\n",
        "  - In Python, dictionaries use a hash table under the hood. This allows for fast access to elements based on keys.\n",
        "\n",
        "  - Average-case time complexity: O(1)\n",
        "\n",
        "  - Worst-case time complexity: O(n) (rare, due to hash collisions)\n",
        "\n",
        "  - Accessing an element using a key is usually constant time, regardless of dictionary size.\n",
        "\n",
        "  - Example:\n",
        "\n",
        "              \n",
        "              student = {\"name\": \"Ankit\", \"age\": 21, \"branch\": \"CSE\"}\n",
        "\n",
        "              # Accessing value using key\n",
        "              print(student[\"age\"])  # Output: 21\n",
        "\n",
        "18.  In what situations are lists preferred over dictionaries?\n",
        "  - Lists are preferred when:\n",
        "\n",
        "  - You need to maintain order of elements (especially before Python 3.7 when dicts were unordered).\n",
        "\n",
        "  - You have a simple collection of values (like numbers or strings) without named identifiers.\n",
        "\n",
        "  - You are accessing elements by position/index instead of by key.\n",
        "\n",
        "  - The data is sequential and doesn't need key-value pairing.\n",
        "\n",
        "  - Use case example: storing marks of students in order of roll numbers.\n",
        "\n",
        "                    \n",
        "                    marks = [82, 75, 91, 68, 88]\n",
        "\n",
        "                    print(marks[2])  # Output: 91\n",
        "\n",
        "19.  Why are dictionaries considered unordered, and how does that affect data retrieval?\n",
        "  - In versions of Python before 3.7, dictionaries were considered unordered, meaning the items (key-value pairs) did not maintain the order in which they were inserted. That made it unpredictable when iterating over them.\n",
        "\n",
        "  - However, from Python 3.7 onwards, dictionaries preserve insertion order, but still, they are not indexed by position like lists. Instead, dictionaries use keys to retrieve values.\n",
        "\n",
        "  - So:\n",
        "\n",
        "  - You cannot access items by numerical index (e.g., dict[0] won’t work).\n",
        "\n",
        "  - You must know the key to access the corresponding value.\n",
        "\n",
        "  - Example:\n",
        "\n",
        "                      student = {\n",
        "                          \"name\": \"Alice\",\n",
        "                          \"age\": 20,\n",
        "                          \"course\": \"CSE\"\n",
        "                      }\n",
        "\n",
        "                      print(student[\"age\"])  # Output: 20\n",
        "                      # print(student[1])    # This would raise a KeyError\n",
        "\n",
        "20.  Explain the difference between a list and a dictionary in terms of data retrieval.\n",
        "  - The key difference lies in how data is accessed:\n",
        "\n",
        "  - List:\n",
        "    Elements are accessed using integer indices, starting from 0.\n",
        "    Data retrieval is based on position.\n",
        "\n",
        "\n",
        "        fruits = [\"apple\", \"banana\", \"cherry\"]\n",
        "        print(fruits[1])  # Output: banana\n",
        "  - Dictionary:\n",
        "    Elements are accessed using keys (which can be strings, numbers, etc.).\n",
        "    Data retrieval is based on key-value pairs, not position.\n",
        "\n",
        "\n",
        "        student = {\"name\": \"Alice\", \"age\": 20}\n",
        "        print(student[\"age\"])  # Output: 20\n",
        "  - In summary:\n",
        "\n",
        "  - Use a list when the order matters and you access items by position.\n",
        "\n",
        "  - Use a dictionary when you need to associate values with unique identifiers (keys).\n"
      ],
      "metadata": {
        "id": "ZoJPZhqdj-k_"
      }
    },
    {
      "cell_type": "markdown",
      "source": [
        "#Practical Questions and Anwers"
      ],
      "metadata": {
        "id": "mJJ0fLUZfV4L"
      }
    },
    {
      "cell_type": "code",
      "source": [
        "# 1. Write a code to create a string with your name and print it.\n",
        "\n",
        "name = \"Debojyoti Bain\"\n",
        "print(name)"
      ],
      "metadata": {
        "colab": {
          "base_uri": "https://localhost:8080/"
        },
        "id": "RzmRC1vSfb6z",
        "outputId": "c1ceff44-a345-4ecc-944e-6740bc077194"
      },
      "execution_count": 48,
      "outputs": [
        {
          "output_type": "stream",
          "name": "stdout",
          "text": [
            "Debojyoti Bain\n"
          ]
        }
      ]
    },
    {
      "cell_type": "code",
      "source": [
        "# 2. Write a code to find the length of the string \"Hello World\".\n",
        "\n",
        "str = \"Hello World\"\n",
        "print(len(str))"
      ],
      "metadata": {
        "colab": {
          "base_uri": "https://localhost:8080/"
        },
        "id": "PY_JGIvCfiWb",
        "outputId": "f3a03eb3-75d7-47b2-ae83-168de29385ad"
      },
      "execution_count": 49,
      "outputs": [
        {
          "output_type": "stream",
          "name": "stdout",
          "text": [
            "11\n"
          ]
        }
      ]
    },
    {
      "cell_type": "code",
      "source": [
        "# 3. Write a code to slice the first 3 characters from the string \"Python Programming\".\n",
        "\n",
        "str = \"Python Programming\"\n",
        "print(str[0:3])"
      ],
      "metadata": {
        "colab": {
          "base_uri": "https://localhost:8080/"
        },
        "id": "n9WnRcUSfkuU",
        "outputId": "dd67e83f-787a-4e05-d3bb-f68c6b10d37c"
      },
      "execution_count": 50,
      "outputs": [
        {
          "output_type": "stream",
          "name": "stdout",
          "text": [
            "Pyt\n"
          ]
        }
      ]
    },
    {
      "cell_type": "code",
      "source": [
        "# 4. Write a code to convert the string \"hello\" to uppercase.\n",
        "\n",
        "str = \"hello\"\n",
        "print(str.upper())"
      ],
      "metadata": {
        "colab": {
          "base_uri": "https://localhost:8080/"
        },
        "id": "_Lsjku8gfp4l",
        "outputId": "fac1740f-b478-4820-8b2a-a3ce789abce9"
      },
      "execution_count": 51,
      "outputs": [
        {
          "output_type": "stream",
          "name": "stdout",
          "text": [
            "HELLO\n"
          ]
        }
      ]
    },
    {
      "cell_type": "code",
      "source": [
        "# 5.  Write a code to replace the word \"apple\" with \"orange\" in the string \"I like apple\".\n",
        "\n",
        "str = \"I like apple\"\n",
        "str = str.replace(\"apple\", \"orange\")\n",
        "print(str)"
      ],
      "metadata": {
        "colab": {
          "base_uri": "https://localhost:8080/"
        },
        "id": "tWHU2dQXfvQM",
        "outputId": "df6798fd-450a-44af-c2bb-fc38ed0c7d92"
      },
      "execution_count": 52,
      "outputs": [
        {
          "output_type": "stream",
          "name": "stdout",
          "text": [
            "I like orange\n"
          ]
        }
      ]
    },
    {
      "cell_type": "code",
      "source": [
        "#6.  Write a code to create a list with numbers 1 to 5 and print it.\n",
        "\n",
        "list1 = [1,2,3,4,5]\n",
        "print(list1)"
      ],
      "metadata": {
        "colab": {
          "base_uri": "https://localhost:8080/"
        },
        "id": "KFPPv_cVgAfO",
        "outputId": "8eeff88d-3b6a-464f-f243-948a7a5ec8df"
      },
      "execution_count": 53,
      "outputs": [
        {
          "output_type": "stream",
          "name": "stdout",
          "text": [
            "[1, 2, 3, 4, 5]\n"
          ]
        }
      ]
    },
    {
      "cell_type": "code",
      "source": [
        "#7.  Write a code to append the number 10 to the list [1, 2, 3, 4].\n",
        "\n",
        "lis = [1, 2, 3, 4]\n",
        "lis.append(10)\n",
        "print(lis)"
      ],
      "metadata": {
        "colab": {
          "base_uri": "https://localhost:8080/"
        },
        "id": "9B-YSPuBgEoo",
        "outputId": "b15c62d7-7fc6-4bd2-f387-e2a378d52780"
      },
      "execution_count": 54,
      "outputs": [
        {
          "output_type": "stream",
          "name": "stdout",
          "text": [
            "[1, 2, 3, 4, 10]\n"
          ]
        }
      ]
    },
    {
      "cell_type": "code",
      "source": [
        "#8.  Write a code to remove the number 3 from the list [1, 2, 3, 4, 5].\n",
        "\n",
        "lis = [1, 2, 3, 4, 5]\n",
        "lis.remove(3)\n",
        "print(lis)"
      ],
      "metadata": {
        "colab": {
          "base_uri": "https://localhost:8080/"
        },
        "id": "zc98z6l0gHhk",
        "outputId": "cfc44c36-450b-44d0-a838-6e7e5e447626"
      },
      "execution_count": 55,
      "outputs": [
        {
          "output_type": "stream",
          "name": "stdout",
          "text": [
            "[1, 2, 4, 5]\n"
          ]
        }
      ]
    },
    {
      "cell_type": "code",
      "source": [
        "#9.  Write a code to access the second element in the list ['a', 'b', 'c', 'd'].\n",
        "\n",
        "list1 = ['a', 'b', 'c', 'd']\n",
        "print(list1[1])"
      ],
      "metadata": {
        "colab": {
          "base_uri": "https://localhost:8080/"
        },
        "id": "vRKF7HfJgSu7",
        "outputId": "c27df970-25a9-4382-f751-aa433ea32ccb"
      },
      "execution_count": 56,
      "outputs": [
        {
          "output_type": "stream",
          "name": "stdout",
          "text": [
            "b\n"
          ]
        }
      ]
    },
    {
      "cell_type": "code",
      "source": [
        "#10.  Write a code to reverse the list [10, 20, 30, 40, 50].\n",
        "\n",
        "list1 = [10, 20, 30, 40, 50]\n",
        "list1.reverse()\n",
        "print(list1)\n"
      ],
      "metadata": {
        "colab": {
          "base_uri": "https://localhost:8080/"
        },
        "id": "5EWg6-JvgV3m",
        "outputId": "5eab14ae-2537-4b60-c762-b2e227982470"
      },
      "execution_count": 57,
      "outputs": [
        {
          "output_type": "stream",
          "name": "stdout",
          "text": [
            "[50, 40, 30, 20, 10]\n"
          ]
        }
      ]
    },
    {
      "cell_type": "code",
      "source": [
        "#11. Write a code to create a tuple with the elements 100, 200, 300 and print it.\n",
        "\n",
        "tup = (100,200,300)\n",
        "print(tup)"
      ],
      "metadata": {
        "colab": {
          "base_uri": "https://localhost:8080/"
        },
        "id": "k2mLqhk7gZd-",
        "outputId": "a3110b3e-f9d7-4461-d99a-276c7ee167cb"
      },
      "execution_count": 58,
      "outputs": [
        {
          "output_type": "stream",
          "name": "stdout",
          "text": [
            "(100, 200, 300)\n"
          ]
        }
      ]
    },
    {
      "cell_type": "code",
      "source": [
        "# 12. Write a code to access the second-to-last element of the tuple ('red', 'green', 'blue', 'yellow').\n",
        "\n",
        "tup = ('red', 'green', 'blue', 'yellow')\n",
        "print(tup[-2])"
      ],
      "metadata": {
        "colab": {
          "base_uri": "https://localhost:8080/"
        },
        "id": "gq1hV8VrgdzC",
        "outputId": "32d672ee-e716-461a-90c8-a68d89709d61"
      },
      "execution_count": 59,
      "outputs": [
        {
          "output_type": "stream",
          "name": "stdout",
          "text": [
            "blue\n"
          ]
        }
      ]
    },
    {
      "cell_type": "code",
      "source": [
        "# 13. Write a code to find the minimum number in the tuple (10, 20, 5, 15).\n",
        "\n",
        "tup = (10, 20, 5, 15)\n",
        "print(min(tup))"
      ],
      "metadata": {
        "colab": {
          "base_uri": "https://localhost:8080/"
        },
        "id": "_S49ZLzVggLW",
        "outputId": "48def76c-5682-414c-ec5e-b067879b19fb"
      },
      "execution_count": 60,
      "outputs": [
        {
          "output_type": "stream",
          "name": "stdout",
          "text": [
            "5\n"
          ]
        }
      ]
    },
    {
      "cell_type": "code",
      "source": [
        "#14. Write a code to find the index of the element \"cat\" in the tuple ('dog', 'cat', 'rabbit').\n",
        "\n",
        "tup = ('dog', 'cat', 'rabbit')\n",
        "print(tup.index(\"cat\"))"
      ],
      "metadata": {
        "colab": {
          "base_uri": "https://localhost:8080/"
        },
        "id": "CyHZzVllgzVV",
        "outputId": "994177ac-4ddb-4c5e-d288-a19b81a13cae"
      },
      "execution_count": 61,
      "outputs": [
        {
          "output_type": "stream",
          "name": "stdout",
          "text": [
            "1\n"
          ]
        }
      ]
    },
    {
      "cell_type": "code",
      "source": [
        "# 15. Write a code to create a tuple containing three different fruits and check if \"kiwi\" is in it.\n",
        "\n",
        "fruits = (\"apple\", \"banana\", \"mango\")\n",
        "print(\"kiwi\" in fruits)\n"
      ],
      "metadata": {
        "colab": {
          "base_uri": "https://localhost:8080/"
        },
        "id": "7d_9srq2g3O2",
        "outputId": "7d7ce941-27ab-47d0-aa71-22622048422d"
      },
      "execution_count": 62,
      "outputs": [
        {
          "output_type": "stream",
          "name": "stdout",
          "text": [
            "False\n"
          ]
        }
      ]
    },
    {
      "cell_type": "code",
      "source": [
        "# 16. Write a code to create a set with the elements 'a', 'b', 'c' and print it.\n",
        "\n",
        "my_set = {'a', 'b', 'c'}\n",
        "print(my_set)\n"
      ],
      "metadata": {
        "colab": {
          "base_uri": "https://localhost:8080/"
        },
        "id": "EWe2dc9Yh345",
        "outputId": "53cda3ed-f5d3-49d2-f5af-e1a6128b4962"
      },
      "execution_count": 63,
      "outputs": [
        {
          "output_type": "stream",
          "name": "stdout",
          "text": [
            "{'a', 'c', 'b'}\n"
          ]
        }
      ]
    },
    {
      "cell_type": "code",
      "source": [
        "# 17. Write a code to clear all elements from the set {1, 2, 3, 4, 5}.\n",
        "\n",
        "my_set = {1, 2, 3, 4, 5}\n",
        "my_set.clear()\n",
        "print(my_set)\n"
      ],
      "metadata": {
        "colab": {
          "base_uri": "https://localhost:8080/"
        },
        "id": "g_ivFnlwh7t2",
        "outputId": "6c2ae3a6-80b3-4095-de78-c4d1016e4f48"
      },
      "execution_count": 64,
      "outputs": [
        {
          "output_type": "stream",
          "name": "stdout",
          "text": [
            "set()\n"
          ]
        }
      ]
    },
    {
      "cell_type": "code",
      "source": [
        "# 18. Write a code to remove the element 4 from the set {1, 2, 3, 4}.\n",
        "\n",
        "my_set = {1, 2, 3, 4}\n",
        "my_set.remove(4)\n",
        "print(my_set)\n"
      ],
      "metadata": {
        "colab": {
          "base_uri": "https://localhost:8080/"
        },
        "id": "QN0Smpfhh9vb",
        "outputId": "aa65ce1c-fb45-44a1-87f5-8ddeaa13e2bc"
      },
      "execution_count": 65,
      "outputs": [
        {
          "output_type": "stream",
          "name": "stdout",
          "text": [
            "{1, 2, 3}\n"
          ]
        }
      ]
    },
    {
      "cell_type": "code",
      "source": [
        "# 19. Write a code to find the union of two sets {1, 2, 3} and {3, 4, 5}.\n",
        "\n",
        "set1 = {1, 2, 3}\n",
        "set2 = {3, 4, 5}\n",
        "union_set = set1.union(set2)\n",
        "print(union_set)\n"
      ],
      "metadata": {
        "colab": {
          "base_uri": "https://localhost:8080/"
        },
        "id": "yWt3fFo4h_uq",
        "outputId": "3a512a9b-1112-427d-9154-ed93cbdba96d"
      },
      "execution_count": 66,
      "outputs": [
        {
          "output_type": "stream",
          "name": "stdout",
          "text": [
            "{1, 2, 3, 4, 5}\n"
          ]
        }
      ]
    },
    {
      "cell_type": "code",
      "source": [
        "# 20. Write a code to find the intersection of two sets {1, 2, 3} and {2, 3, 4}.\n",
        "\n",
        "set1 = {1, 2, 3}\n",
        "set2 = {2, 3, 4}\n",
        "intersection_set = set1.intersection(set2)\n",
        "print(intersection_set)\n",
        "\n"
      ],
      "metadata": {
        "colab": {
          "base_uri": "https://localhost:8080/"
        },
        "id": "OvD9W0bhiV4z",
        "outputId": "55430d13-d373-47f2-d5ae-49f5200bbaa4"
      },
      "execution_count": 67,
      "outputs": [
        {
          "output_type": "stream",
          "name": "stdout",
          "text": [
            "{2, 3}\n"
          ]
        }
      ]
    },
    {
      "cell_type": "code",
      "source": [
        "# 21. Write a code to create a dictionary with the keys \"name\", \"age\", and \"city\", and print it.\n",
        "\n",
        "person = {\n",
        "    \"name\": \"Alice\",\n",
        "    \"age\": 25,\n",
        "    \"city\": \"Kolkata\"\n",
        "}\n",
        "\n",
        "print(person)\n"
      ],
      "metadata": {
        "colab": {
          "base_uri": "https://localhost:8080/"
        },
        "id": "QXR9Px-6iWoI",
        "outputId": "1188367a-9f0f-4b5f-8bed-25a0804bc3d9"
      },
      "execution_count": 68,
      "outputs": [
        {
          "output_type": "stream",
          "name": "stdout",
          "text": [
            "{'name': 'Alice', 'age': 25, 'city': 'Kolkata'}\n"
          ]
        }
      ]
    },
    {
      "cell_type": "code",
      "source": [
        "# 22. Write a code to add a new key-value pair \"country\": \"USA\" to the dictionary {'name': 'John', 'age': 25}.\n",
        "\n",
        "person = {'name': 'John', 'age': 25}\n",
        "person[\"country\"] = \"USA\"\n",
        "print(person)\n"
      ],
      "metadata": {
        "colab": {
          "base_uri": "https://localhost:8080/"
        },
        "id": "UFOkLB8CiY9m",
        "outputId": "87f0ef41-c57a-4572-9bbb-13b050d383b1"
      },
      "execution_count": 69,
      "outputs": [
        {
          "output_type": "stream",
          "name": "stdout",
          "text": [
            "{'name': 'John', 'age': 25, 'country': 'USA'}\n"
          ]
        }
      ]
    },
    {
      "cell_type": "code",
      "source": [
        "# 23. Write a code to access the value associated with the key \"name\" in the dictionary {'name': 'Alice', 'age': 30}.\n",
        "\n",
        "person = {'name': 'Alice', 'age': 30}\n",
        "print(person[\"name\"])\n"
      ],
      "metadata": {
        "colab": {
          "base_uri": "https://localhost:8080/"
        },
        "id": "-J1Aq6shibDg",
        "outputId": "99e33669-10a9-47ca-a788-d9a33f6caa33"
      },
      "execution_count": 70,
      "outputs": [
        {
          "output_type": "stream",
          "name": "stdout",
          "text": [
            "Alice\n"
          ]
        }
      ]
    },
    {
      "cell_type": "code",
      "source": [
        "# 24. Write a code to remove the key \"age\" from the dictionary {'name': 'Bob', 'age': 22, 'city': 'New York'}.\n",
        "\n",
        "person = {'name': 'Bob', 'age': 22, 'city': 'New York'}\n",
        "del person[\"age\"]\n",
        "print(person)\n"
      ],
      "metadata": {
        "colab": {
          "base_uri": "https://localhost:8080/"
        },
        "id": "s0BP7AwzidIc",
        "outputId": "0c0fc10b-57c1-4fb7-e9a3-c5a2fad6f627"
      },
      "execution_count": 71,
      "outputs": [
        {
          "output_type": "stream",
          "name": "stdout",
          "text": [
            "{'name': 'Bob', 'city': 'New York'}\n"
          ]
        }
      ]
    },
    {
      "cell_type": "code",
      "source": [
        "# 25. Write a code to check if the key \"city\" exists in the dictionary {'name': 'Alice', 'city': 'Paris'}.\n",
        "\n",
        "person = {'name': 'Alice', 'city': 'Paris'}\n",
        "print(\"city\" in person)\n"
      ],
      "metadata": {
        "colab": {
          "base_uri": "https://localhost:8080/"
        },
        "id": "rNsY4bbgiilQ",
        "outputId": "96ddb3f3-fa2a-4497-bb9d-abc1d9de3c18"
      },
      "execution_count": 72,
      "outputs": [
        {
          "output_type": "stream",
          "name": "stdout",
          "text": [
            "True\n"
          ]
        }
      ]
    },
    {
      "cell_type": "code",
      "source": [
        "# 26. Write a code to create a list, a tuple, and a dictionary, and print them all.\n",
        "\n",
        "my_list = [1, 2, 3]\n",
        "my_tuple = (4, 5, 6)\n",
        "my_dict = {'a': 7, 'b': 8}\n",
        "\n",
        "print(\"List:\", my_list)\n",
        "print(\"Tuple:\", my_tuple)\n",
        "print(\"Dictionary:\", my_dict)\n"
      ],
      "metadata": {
        "colab": {
          "base_uri": "https://localhost:8080/"
        },
        "id": "b66U61CgileS",
        "outputId": "1c51c135-c027-47cf-b66f-6f8e56b3f0d2"
      },
      "execution_count": 73,
      "outputs": [
        {
          "output_type": "stream",
          "name": "stdout",
          "text": [
            "List: [1, 2, 3]\n",
            "Tuple: (4, 5, 6)\n",
            "Dictionary: {'a': 7, 'b': 8}\n"
          ]
        }
      ]
    },
    {
      "cell_type": "code",
      "source": [
        "# 27. Write a code to create a list of 5 random numbers between 1 and 100, sort it in ascending order, and print the result.(replaced)\n",
        "\n",
        "import random\n",
        "\n",
        "random_list = random.sample(range(1, 101), 5)\n",
        "random_list.sort()\n",
        "\n",
        "print(\"Sorted random list:\", random_list)\n"
      ],
      "metadata": {
        "colab": {
          "base_uri": "https://localhost:8080/"
        },
        "id": "it8-qKvXkHPk",
        "outputId": "823cc9cd-ff33-4502-c077-875c65f19757"
      },
      "execution_count": 74,
      "outputs": [
        {
          "output_type": "stream",
          "name": "stdout",
          "text": [
            "Sorted random list: [2, 16, 27, 78, 100]\n"
          ]
        }
      ]
    },
    {
      "cell_type": "code",
      "source": [
        "# 28. Write a code to create a list with strings and print the element at the third index.\n",
        "\n",
        "string_list = [\"apple\", \"banana\", \"cherry\", \"date\", \"elderberry\"]\n",
        "print(string_list[3])\n"
      ],
      "metadata": {
        "colab": {
          "base_uri": "https://localhost:8080/"
        },
        "id": "3pTDzeAgyEaO",
        "outputId": "a441f434-07b7-4147-8c9c-5bcd5352fbaa"
      },
      "execution_count": 75,
      "outputs": [
        {
          "output_type": "stream",
          "name": "stdout",
          "text": [
            "date\n"
          ]
        }
      ]
    },
    {
      "cell_type": "code",
      "source": [
        "# 29. Write a code to combine two dictionaries into one and print the result.\n",
        "\n",
        "dict1 = {'a': 1, 'b': 2}\n",
        "dict2 = {'c': 3, 'd': 4}\n",
        "\n",
        "# Merging dictionaries\n",
        "combined_dict = {**dict1, **dict2}\n",
        "\n",
        "print(combined_dict)\n"
      ],
      "metadata": {
        "colab": {
          "base_uri": "https://localhost:8080/"
        },
        "id": "ULO7l9ESyKDK",
        "outputId": "4288cad3-b3cd-4744-fd40-4d9ed84658e7"
      },
      "execution_count": 76,
      "outputs": [
        {
          "output_type": "stream",
          "name": "stdout",
          "text": [
            "{'a': 1, 'b': 2, 'c': 3, 'd': 4}\n"
          ]
        }
      ]
    },
    {
      "cell_type": "code",
      "source": [
        "# 30. Write a code to convert a list of strings into a set.\n",
        "\n",
        "string_list = [\"apple\", \"banana\", \"cherry\", \"apple\"]\n",
        "string_set = set(string_list)\n",
        "\n",
        "print(string_set)\n"
      ],
      "metadata": {
        "colab": {
          "base_uri": "https://localhost:8080/"
        },
        "id": "cp0mAGd_yOXB",
        "outputId": "a8cb3cef-9d04-4728-ee61-d3a629c00a1f"
      },
      "execution_count": 77,
      "outputs": [
        {
          "output_type": "stream",
          "name": "stdout",
          "text": [
            "{'apple', 'cherry', 'banana'}\n"
          ]
        }
      ]
    }
  ]
}